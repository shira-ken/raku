{
  "nbformat": 4,
  "nbformat_minor": 0,
  "metadata": {
    "colab": {
      "name": "ekixml.ipynb",
      "provenance": [],
      "collapsed_sections": [],
      "authorship_tag": "ABX9TyM4PEyiQMrQhQ8oGEtAeAzS",
      "include_colab_link": true
    },
    "kernelspec": {
      "name": "python3",
      "display_name": "Python 3"
    },
    "language_info": {
      "name": "python"
    }
  },
  "cells": [
    {
      "cell_type": "markdown",
      "metadata": {
        "id": "view-in-github",
        "colab_type": "text"
      },
      "source": [
        "<a href=\"https://colab.research.google.com/github/shira-ken/raku/blob/main/ekixml.ipynb\" target=\"_parent\"><img src=\"https://colab.research.google.com/assets/colab-badge.svg\" alt=\"Open In Colab\"/></a>"
      ]
    },
    {
      "cell_type": "code",
      "execution_count": null,
      "metadata": {
        "colab": {
          "base_uri": "https://localhost:8080/"
        },
        "id": "l9U5EZX2m7MK",
        "outputId": "3200c21d-5ac8-4411-d88f-57f23325162e"
      },
      "outputs": [
        {
          "output_type": "stream",
          "name": "stdout",
          "text": [
            "b'<!doctype html>\\n<html>\\n<head>\\n    <title>Example Domain</title>\\n\\n    <meta charset=\"utf-8\" />\\n    <meta http-equiv=\"Content-type\" content=\"text/html; charset=utf-8\" />\\n    <meta name=\"viewport\" content=\"width=device-width, initial-scale=1\" />\\n    <style type=\"text/css\">\\n    body {\\n        background-color: #f0f0f2;\\n        margin: 0;\\n        padding: 0;\\n        font-family: -apple-system, system-ui, BlinkMacSystemFont, \"Segoe UI\", \"Open Sans\", \"Helvetica Neue\", Helvetica, Arial, sans-serif;\\n        \\n    }\\n    div {\\n        width: 600px;\\n        margin: 5em auto;\\n        padding: 2em;\\n        background-color: #fdfdff;\\n        border-radius: 0.5em;\\n        box-shadow: 2px 3px 7px 2px rgba(0,0,0,0.02);\\n    }\\n    a:link, a:visited {\\n        color: #38488f;\\n        text-decoration: none;\\n    }\\n    @media (max-width: 700px) {\\n        div {\\n            margin: 0 auto;\\n            width: auto;\\n        }\\n    }\\n    </style>    \\n</head>\\n\\n<body>\\n<div>\\n    <h1>Example Domain</h1>\\n    <p>This domain is for use in illustrative examples in documents. You may use this\\n    domain in literature without prior coordination or asking for permission.</p>\\n    <p><a href=\"https://www.iana.org/domains/example\">More information...</a></p>\\n</div>\\n</body>\\n</html>\\n'\n"
          ]
        }
      ],
      "source": [
        "from urllib import request\n",
        "from lxml import html\n",
        " \n",
        "URL = \"http://www.example.com\"\n",
        "data = request.urlopen(URL)\n",
        "html = data.read()\n",
        "print(html)"
      ]
    },
    {
      "cell_type": "code",
      "source": [
        "import urllib.request\n",
        "import lxml.html\n",
        " \n",
        "url = \"http://api.ekispert.jp/v1/xml/station/light?key=LE_9gRh5U6p3upcq&code=22828\"\n",
        "res = urllib.request.urlopen(url).read()\n",
        "text = res.decode(\"utf-8\")\n",
        "#print(text)\n",
        "\n",
        "tree = lxml.html.fromstring(res)\n",
        "result = tree.xpath('/ResultSet/Point/Station/Name')\n",
        "print(len(result))\n",
        "for elem in result:\n",
        "    print(elem.text)\n",
        "\n",
        "\n",
        "#result = tree.xpath('//*[@id=\"contents\"]/div[1]/div/div/div[3]/div[3]/div[1]/p/span[1]')\n",
        "#for elem in result:\n",
        "#    print (elem.text)"
      ],
      "metadata": {
        "colab": {
          "base_uri": "https://localhost:8080/"
        },
        "id": "NShoO8vp_kCF",
        "outputId": "e2fa2474-3369-4507-c720-41379477a1a1"
      },
      "execution_count": 13,
      "outputs": [
        {
          "output_type": "stream",
          "name": "stdout",
          "text": [
            "0\n"
          ]
        }
      ]
    }
  ]
}