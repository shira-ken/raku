{
  "nbformat": 4,
  "nbformat_minor": 0,
  "metadata": {
    "colab": {
      "name": "ekixml.ipynb",
      "provenance": [],
      "collapsed_sections": [],
      "authorship_tag": "ABX9TyOIHO1CmgsDEwKHgsy65ZEC",
      "include_colab_link": true
    },
    "kernelspec": {
      "name": "python3",
      "display_name": "Python 3"
    },
    "language_info": {
      "name": "python"
    }
  },
  "cells": [
    {
      "cell_type": "markdown",
      "metadata": {
        "id": "view-in-github",
        "colab_type": "text"
      },
      "source": [
        "<a href=\"https://colab.research.google.com/github/shira-ken/raku/blob/main/ekixml.ipynb\" target=\"_parent\"><img src=\"https://colab.research.google.com/assets/colab-badge.svg\" alt=\"Open In Colab\"/></a>"
      ]
    },
    {
      "cell_type": "code",
      "execution_count": null,
      "metadata": {
        "colab": {
          "base_uri": "https://localhost:8080/"
        },
        "id": "l9U5EZX2m7MK",
        "outputId": "3200c21d-5ac8-4411-d88f-57f23325162e"
      },
      "outputs": [
        {
          "output_type": "stream",
          "name": "stdout",
          "text": [
            "b'<!doctype html>\\n<html>\\n<head>\\n    <title>Example Domain</title>\\n\\n    <meta charset=\"utf-8\" />\\n    <meta http-equiv=\"Content-type\" content=\"text/html; charset=utf-8\" />\\n    <meta name=\"viewport\" content=\"width=device-width, initial-scale=1\" />\\n    <style type=\"text/css\">\\n    body {\\n        background-color: #f0f0f2;\\n        margin: 0;\\n        padding: 0;\\n        font-family: -apple-system, system-ui, BlinkMacSystemFont, \"Segoe UI\", \"Open Sans\", \"Helvetica Neue\", Helvetica, Arial, sans-serif;\\n        \\n    }\\n    div {\\n        width: 600px;\\n        margin: 5em auto;\\n        padding: 2em;\\n        background-color: #fdfdff;\\n        border-radius: 0.5em;\\n        box-shadow: 2px 3px 7px 2px rgba(0,0,0,0.02);\\n    }\\n    a:link, a:visited {\\n        color: #38488f;\\n        text-decoration: none;\\n    }\\n    @media (max-width: 700px) {\\n        div {\\n            margin: 0 auto;\\n            width: auto;\\n        }\\n    }\\n    </style>    \\n</head>\\n\\n<body>\\n<div>\\n    <h1>Example Domain</h1>\\n    <p>This domain is for use in illustrative examples in documents. You may use this\\n    domain in literature without prior coordination or asking for permission.</p>\\n    <p><a href=\"https://www.iana.org/domains/example\">More information...</a></p>\\n</div>\\n</body>\\n</html>\\n'\n"
          ]
        }
      ],
      "source": [
        "import urllib.request\n",
        "import lxml.html\n",
        " \n",
        "url = \"http://api.ekispert.jp/v1/xml/station/light?key=LE_9gRh5U6p3upcq&code=22828\"\n",
        "res = urllib.request.urlopen(url).read()\n",
        "text = res.decode(\"utf-8\")\n",
        "#print(text)\n",
        "\n",
        "tree = lxml.html.fromstring(res)\n",
        "result = tree.xpath('/ResultSet/Point/Station/Name')\n",
        "print(len(result))\n",
        "for elem in result:\n",
        "    print(elem.text)\n"
      ]
    },
    {
      "cell_type": "code",
      "source": [
        ""
      ],
      "metadata": {
        "id": "lViF4iJ8r3aO"
      },
      "execution_count": null,
      "outputs": []
    },
    {
      "cell_type": "code",
      "source": [
        "import xml.etree.ElementTree as ET\n",
        "import urllib.request\n",
        "import lxml.html\n",
        " \n",
        "url = \"http://api.ekispert.jp/v1/xml/station/light?key=LE_9gRh5U6p3upcq\"\n",
        "res = urllib.request.urlopen(url).read()\n",
        "xml = res.decode(\"utf-8\")\n",
        "\n",
        "root = ET.fromstring(xml)\n",
        "for name, station in zip(root.iter(\"Name\"), root.iter(\"Station\")):\n",
        "    print(name.text, station.attrib['code'])\n"
      ],
      "metadata": {
        "colab": {
          "base_uri": "https://localhost:8080/"
        },
        "id": "NShoO8vp_kCF",
        "outputId": "55042847-0634-4f77-af32-86e67e89e383"
      },
      "execution_count": 49,
      "outputs": [
        {
          "output_type": "stream",
          "name": "stdout",
          "text": [
            "相生(兵庫県) 26242\n",
            "兵庫県 24360\n",
            "相生(岐阜県) 21839\n",
            "岐阜県 29692\n",
            "相老 26915\n",
            "群馬県 25799\n",
            "相生山 21135\n",
            "愛知県 29532\n",
            "秋鹿町 25242\n",
            "島根県 23055\n",
            "相川 20004\n",
            "大阪府 27766\n",
            "合川 29541\n",
            "秋田県 25028\n",
            "愛環梅坪 24782\n",
            "愛知県 21398\n",
            "相賀 21399\n",
            "三重県 21400\n",
            "愛甲石田 21401\n",
            "神奈川県 23447\n",
            "愛山 21402\n",
            "北海道 21403\n",
            "愛大医学部南口 21404\n",
            "愛媛県 29367\n",
            "愛・地球博記念公園 21405\n",
            "愛知県 21406\n",
            "愛知大学前 21407\n",
            "愛知県 21408\n",
            "愛知御津 21409\n",
            "愛知県 21410\n"
          ]
        }
      ]
    },
    {
      "cell_type": "code",
      "source": [
        "import xml.etree.ElementTree as ET\n",
        "import urllib.request\n",
        "import lxml.html\n",
        " \n",
        "url1 = \"https://api.ekispert.jp/v1/xml/search/course/light?key=LE_9gRh5U6p3upcq&from=22828&to=23447\"\n",
        "res1 = urllib.request.urlopen(url1).read()\n",
        "xml1 = res1.decode(\"utf-8\")\n",
        "root1 = ET.fromstring(xml1)\n",
        "print(xml1)\n",
        "for iurl in root1.iter(\"ResourceURI\"):\n",
        "  url2 = iurl.text\n",
        "\n",
        "#url2 = root1.iter(\"ResourceURI\")[0].text\n",
        "res2 = urllib.request.urlopen(url2).read()\n",
        "tree = lxml.html.fromstring(res2.decode(\"utf-8\"))\n",
        "result = tree.xpath('//*[@id=\"route01\"]/div/table[2]/tbody/tr[2]/td[3]')\n",
        "print(len(result))\n",
        "for elem in result:\n",
        "    print(elem.text)\n",
        "\n",
        "#root2 = ET.fromstring(xml2)\n",
        "\n",
        "#for td1 in root2.iter(\"td\"):\n",
        "#  print(td1.text, td1.attrib['class'])\n",
        "\n",
        "#for name, station in zip(root.iter(\"Name\"), root.iter(\"Station\")):\n",
        "#    print(name.text, station.attrib['code'])"
      ],
      "metadata": {
        "id": "k7mdL_-Ir6vB",
        "outputId": "f45330c8-8646-481c-d000-89a02794070f",
        "colab": {
          "base_uri": "https://localhost:8080/"
        }
      },
      "execution_count": 57,
      "outputs": [
        {
          "output_type": "stream",
          "name": "stdout",
          "text": [
            "<?xml version=\"1.0\" encoding=\"UTF-8\"?>\n",
            "<ResultSet apiVersion=\"1.27.0.0\" engineVersion=\"202205_02a\"><ResourceURI>https://roote.ekispert.net/result?arr=%E7%9B%B8%E6%9C%88&amp;arr_code=23447&amp;connect=true&amp;dep=%E6%9D%B1%E4%BA%AC&amp;dep_code=22828&amp;express=true&amp;highway=true&amp;hour&amp;liner=true&amp;local=true&amp;minute&amp;plane=true&amp;shinkansen=true&amp;ship=true&amp;sleep=false&amp;sort=time&amp;surcharge=3&amp;type=dep&amp;via1=&amp;via1_code=&amp;via2=&amp;via2_code=</ResourceURI></ResultSet>\n",
            "\n",
            "0\n"
          ]
        }
      ]
    }
  ]
}